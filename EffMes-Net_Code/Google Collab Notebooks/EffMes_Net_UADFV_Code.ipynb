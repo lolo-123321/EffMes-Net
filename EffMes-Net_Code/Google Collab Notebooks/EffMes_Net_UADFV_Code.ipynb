{
  "nbformat": 4,
  "nbformat_minor": 0,
  "metadata": {
    "colab": {
      "provenance": []
    },
    "kernelspec": {
      "name": "python3",
      "display_name": "Python 3"
    },
    "language_info": {
      "name": "python"
    }
  },
  "cells": [
    {
      "cell_type": "code",
      "execution_count": null,
      "metadata": {
        "id": "tcWMd-QV6fOV"
      },
      "outputs": [],
      "source": [
        "!pip uninstall -y tensorflow\n",
        "!pip install tensorflow==2.12.0  # Adjust the version based on compatibility\n",
        "!apt-get install --only-upgrade libcudnn8"
      ]
    },
    {
      "cell_type": "code",
      "source": [
        "from google.colab import files\n",
        "files.upload()"
      ],
      "metadata": {
        "id": "ZUp3G3M26p1F"
      },
      "execution_count": null,
      "outputs": []
    },
    {
      "cell_type": "code",
      "source": [
        "!mkdir -p ~/.kaggle\n",
        "!cp kaggle.json ~/.kaggle/\n",
        "!chmod 600 ~/.kaggle/kaggle.json"
      ],
      "metadata": {
        "id": "Gsla3QLy6tWk"
      },
      "execution_count": null,
      "outputs": []
    },
    {
      "cell_type": "code",
      "source": [
        "!kaggle datasets download -d adityakeshri9234/uadfv-dataset"
      ],
      "metadata": {
        "id": "0BnjGHCy7c-h"
      },
      "execution_count": null,
      "outputs": []
    },
    {
      "cell_type": "code",
      "source": [
        "# Clone the MesoNet repository\n",
        "!git clone https://github.com/DariusAf/MesoNet.git\n",
        "\n",
        "# Change directory to MesoNet\n",
        "%cd MesoNet\n",
        "\n",
        "# List the files to confirm everything is cloned\n",
        "!ls"
      ],
      "metadata": {
        "id": "x9RKZf9V7hei"
      },
      "execution_count": null,
      "outputs": []
    },
    {
      "cell_type": "code",
      "source": [
        "!pip install tensorflow keras numpy opencv-python imageio scikit-learn matplotlib"
      ],
      "metadata": {
        "id": "naihXklS7noi"
      },
      "execution_count": null,
      "outputs": []
    },
    {
      "cell_type": "code",
      "source": [
        "!grep \"import\" classifiers.py\n",
        "!grep \"import\" pipeline.py\n",
        "!grep \"import\" example.py"
      ],
      "metadata": {
        "id": "Zu4udqUK7qH1"
      },
      "execution_count": null,
      "outputs": []
    },
    {
      "cell_type": "markdown",
      "source": [
        "Make sure to change the file name for the dataset to 'data'"
      ],
      "metadata": {
        "id": "sIYan4Ez9Grv"
      }
    },
    {
      "cell_type": "code",
      "source": [
        "!unzip -q uadfv-dataset.zip"
      ],
      "metadata": {
        "id": "8DXO1jvf9Fv9"
      },
      "execution_count": null,
      "outputs": []
    },
    {
      "cell_type": "code",
      "source": [
        "!pip install <missing-library>"
      ],
      "metadata": {
        "id": "n6gM1-pu7r7s"
      },
      "execution_count": null,
      "outputs": []
    },
    {
      "cell_type": "code",
      "source": [
        "!ls weights/"
      ],
      "metadata": {
        "id": "Dy7oWasb7sh2"
      },
      "execution_count": null,
      "outputs": []
    },
    {
      "cell_type": "code",
      "source": [
        "!pip install face_recognition"
      ],
      "metadata": {
        "id": "mH5pczWu7uPj"
      },
      "execution_count": null,
      "outputs": []
    },
    {
      "cell_type": "code",
      "source": [
        "!pip install dlib"
      ],
      "metadata": {
        "id": "7qNd-u8G7wV4"
      },
      "execution_count": null,
      "outputs": []
    },
    {
      "cell_type": "code",
      "source": [
        "!python pipeline.py"
      ],
      "metadata": {
        "id": "mCTMyGWx7yG1"
      },
      "execution_count": null,
      "outputs": []
    },
    {
      "cell_type": "code",
      "source": [
        "pip install numpy scikit-learn matplotlib seaborn"
      ],
      "metadata": {
        "id": "X2jwws5k710m"
      },
      "execution_count": null,
      "outputs": []
    },
    {
      "cell_type": "markdown",
      "source": [
        "Classifier, training, and prediction code differ based on model chosen, so insert the codes of the model you wish to test."
      ],
      "metadata": {
        "id": "yv4fERuw_WVE"
      }
    },
    {
      "cell_type": "markdown",
      "source": [
        "Insert Classifier code in it before running this line."
      ],
      "metadata": {
        "id": "1NL_I5ls8cyx"
      }
    },
    {
      "cell_type": "code",
      "source": [
        "!python classifiers.py"
      ],
      "metadata": {
        "id": "GsUkryJ977MC"
      },
      "execution_count": null,
      "outputs": []
    },
    {
      "cell_type": "markdown",
      "source": [
        "Insert Training code in it before running this line."
      ],
      "metadata": {
        "id": "me0OklQL8hF4"
      }
    },
    {
      "cell_type": "code",
      "source": [
        "!python example.py"
      ],
      "metadata": {
        "id": "m_ta8VD08AJI"
      },
      "execution_count": null,
      "outputs": []
    },
    {
      "cell_type": "markdown",
      "source": [
        "Create Predict.py file and insert predicion code in it before running this line."
      ],
      "metadata": {
        "id": "3bypElVc8JdN"
      }
    },
    {
      "cell_type": "code",
      "source": [
        "!python predict.py"
      ],
      "metadata": {
        "id": "2M3a7VyN8A-L"
      },
      "execution_count": null,
      "outputs": []
    }
  ]
}