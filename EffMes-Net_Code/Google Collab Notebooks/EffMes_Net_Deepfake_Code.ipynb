{
  "nbformat": 4,
  "nbformat_minor": 0,
  "metadata": {
    "colab": {
      "provenance": []
    },
    "kernelspec": {
      "name": "python3",
      "display_name": "Python 3"
    },
    "language_info": {
      "name": "python"
    }
  },
  "cells": [
    {
      "cell_type": "code",
      "execution_count": null,
      "metadata": {
        "id": "tcWMd-QV6fOV"
      },
      "outputs": [],
      "source": [
        "!pip uninstall -y tensorflow\n",
        "!pip install tensorflow==2.12.0  # Adjust the version based on compatibility\n",
        "!apt-get install --only-upgrade libcudnn8"
      ]
    },
    {
      "cell_type": "code",
      "source": [
        "from google.colab import files\n",
        "files.upload()"
      ],
      "metadata": {
        "id": "ZUp3G3M26p1F"
      },
      "execution_count": null,
      "outputs": []
    },
    {
      "cell_type": "code",
      "source": [
        "from google.colab import drive\n",
        "import os\n",
        "import zipfile\n",
        "import shutil\n",
        "\n",
        "# Mount Google Drive\n",
        "drive.mount('/content/drive')\n",
        "\n",
        "# Define dataset paths (Update the folder path as needed)\n",
        "drive_folder_path = \"/content/drive/MyDrive/\"  # Change this to your actual dataset path in Drive\n",
        "\n",
        "fake_faces_zip = \"Dataset.zip\"\n",
        "\n",
        "# Destination paths in Colab\n",
        "colab_dataset_path = \"/content/MesoNet/\"\n",
        "\n",
        "# Create the dataset directory if it doesn't exist\n",
        "os.makedirs(colab_dataset_path, exist_ok=True)\n",
        "\n",
        "# Function to copy and unzip dataset\n",
        "def extract_dataset(zip_filename):\n",
        "    dataset_path = os.path.join(drive_folder_path, zip_filename)\n",
        "    if os.path.exists(dataset_path):\n",
        "        print(f\"Copying {zip_filename} to Colab...\")\n",
        "        shutil.copy(dataset_path, \"/content/\")\n",
        "\n",
        "        print(f\"Extracting {zip_filename}...\")\n",
        "        with zipfile.ZipFile(f\"/content/{zip_filename}\", 'r') as zip_ref:\n",
        "            zip_ref.extractall(colab_dataset_path)\n",
        "\n",
        "        print(f\"{zip_filename} extracted successfully!\\n\")\n",
        "    else:\n",
        "        print(f\"File {zip_filename} not found in {drive_folder_path}\")\n",
        "\n",
        "# Process both datasets\n",
        "extract_dataset(fake_faces_zip)\n",
        "\n",
        "print(\"dataset extracted successfully\")\n"
      ],
      "metadata": {
        "id": "Gsla3QLy6tWk"
      },
      "execution_count": null,
      "outputs": []
    },
    {
      "cell_type": "code",
      "source": [
        "import os\n",
        "from glob import glob\n",
        "\n",
        "# Define paths\n",
        "fake_lq_path = \"/content/MesoNet/data/fake\"\n",
        "real_path = \"/content/MesoNet/data/real\"\n",
        "\n",
        "# Supported image extensions\n",
        "image_extensions = ['*.jpg', '*.jpeg', '*.png', '*.bmp', '*.tif', '*.tiff', '*.webp']\n",
        "\n",
        "# Function to collect all image paths with supported extensions\n",
        "def collect_images(path):\n",
        "    all_images = []\n",
        "    for ext in image_extensions:\n",
        "        all_images.extend(glob(os.path.join(path, \"**\", ext), recursive=True))\n",
        "    return all_images\n",
        "\n",
        "# Collect images\n",
        "fake_lq_images = collect_images(fake_lq_path)\n",
        "real_images = collect_images(real_path)\n",
        "\n",
        "# Print counts\n",
        "print(\"🧮 Image Counts:\")\n",
        "print(f\"  - Fake : {len(fake_lq_images)} images\")\n",
        "print(f\"  - Real: {len(real_images)} images\")\n",
        "print(f\"  - Total: {len(fake_lq_images) + len(real_images)} images\")"
      ],
      "metadata": {
        "id": "0BnjGHCy7c-h"
      },
      "execution_count": null,
      "outputs": []
    },
    {
      "cell_type": "markdown",
      "source": [
        "deletes the checkpoints file"
      ],
      "metadata": {
        "id": "ex4M9BhH-30O"
      }
    },
    {
      "cell_type": "code",
      "source": [
        "!find /content/MesoNet/data -type d"
      ],
      "metadata": {
        "id": "G_mj1pxA-wAD"
      },
      "execution_count": null,
      "outputs": []
    },
    {
      "cell_type": "markdown",
      "source": [
        "must not return anything."
      ],
      "metadata": {
        "id": "VBr-wm4L-z1l"
      }
    },
    {
      "cell_type": "code",
      "source": [
        "!rm -rf /content/MesoNet/data/.ipynb_checkpoints"
      ],
      "metadata": {
        "id": "UqwDhHy7-zPc"
      },
      "execution_count": null,
      "outputs": []
    },
    {
      "cell_type": "code",
      "source": [
        "# Clone the MesoNet repository\n",
        "!git clone https://github.com/DariusAf/MesoNet.git\n",
        "\n",
        "# Change directory to MesoNet\n",
        "%cd MesoNet\n",
        "\n",
        "# List the files to confirm everything is cloned\n",
        "!ls"
      ],
      "metadata": {
        "id": "x9RKZf9V7hei"
      },
      "execution_count": null,
      "outputs": []
    },
    {
      "cell_type": "code",
      "source": [
        "!pip install tensorflow keras numpy opencv-python imageio scikit-learn matplotlib"
      ],
      "metadata": {
        "id": "naihXklS7noi"
      },
      "execution_count": null,
      "outputs": []
    },
    {
      "cell_type": "code",
      "source": [
        "!grep \"import\" classifiers.py\n",
        "!grep \"import\" pipeline.py\n",
        "!grep \"import\" example.py"
      ],
      "metadata": {
        "id": "Zu4udqUK7qH1"
      },
      "execution_count": null,
      "outputs": []
    },
    {
      "cell_type": "markdown",
      "source": [
        "Make sure to change the file name for the dataset to 'data'"
      ],
      "metadata": {
        "id": "sIYan4Ez9Grv"
      }
    },
    {
      "cell_type": "code",
      "source": [
        "!unzip -q uadfv-dataset.zip"
      ],
      "metadata": {
        "id": "8DXO1jvf9Fv9"
      },
      "execution_count": null,
      "outputs": []
    },
    {
      "cell_type": "code",
      "source": [
        "!pip install <missing-library>"
      ],
      "metadata": {
        "id": "n6gM1-pu7r7s"
      },
      "execution_count": null,
      "outputs": []
    },
    {
      "cell_type": "code",
      "source": [
        "!ls weights/"
      ],
      "metadata": {
        "id": "Dy7oWasb7sh2"
      },
      "execution_count": null,
      "outputs": []
    },
    {
      "cell_type": "code",
      "source": [
        "!pip install face_recognition"
      ],
      "metadata": {
        "id": "mH5pczWu7uPj"
      },
      "execution_count": null,
      "outputs": []
    },
    {
      "cell_type": "code",
      "source": [
        "!pip install dlib"
      ],
      "metadata": {
        "id": "7qNd-u8G7wV4"
      },
      "execution_count": null,
      "outputs": []
    },
    {
      "cell_type": "code",
      "source": [
        "!python pipeline.py"
      ],
      "metadata": {
        "id": "mCTMyGWx7yG1"
      },
      "execution_count": null,
      "outputs": []
    },
    {
      "cell_type": "code",
      "source": [
        "pip install numpy scikit-learn matplotlib seaborn"
      ],
      "metadata": {
        "id": "X2jwws5k710m"
      },
      "execution_count": null,
      "outputs": []
    },
    {
      "cell_type": "markdown",
      "source": [
        "Classifier, training, and prediction code differ based on model chosen, so insert the codes of the model you wish to test."
      ],
      "metadata": {
        "id": "40cBr0oIAdDw"
      }
    },
    {
      "cell_type": "markdown",
      "source": [
        "Insert Classifier code in it before running this line."
      ],
      "metadata": {
        "id": "1NL_I5ls8cyx"
      }
    },
    {
      "cell_type": "code",
      "source": [
        "!python classifiers.py"
      ],
      "metadata": {
        "id": "GsUkryJ977MC"
      },
      "execution_count": null,
      "outputs": []
    },
    {
      "cell_type": "markdown",
      "source": [
        "Insert Training code in it before running this line."
      ],
      "metadata": {
        "id": "me0OklQL8hF4"
      }
    },
    {
      "cell_type": "code",
      "source": [
        "!python example.py"
      ],
      "metadata": {
        "id": "m_ta8VD08AJI"
      },
      "execution_count": null,
      "outputs": []
    },
    {
      "cell_type": "markdown",
      "source": [
        "Create Predict.py file and insert predicion code in it before running this line."
      ],
      "metadata": {
        "id": "3bypElVc8JdN"
      }
    },
    {
      "cell_type": "code",
      "source": [
        "!python predict.py"
      ],
      "metadata": {
        "id": "2M3a7VyN8A-L"
      },
      "execution_count": null,
      "outputs": []
    }
  ]
}